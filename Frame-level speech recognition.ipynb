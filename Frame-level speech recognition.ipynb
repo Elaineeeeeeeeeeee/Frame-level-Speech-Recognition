{
 "cells": [
  {
   "cell_type": "markdown",
   "metadata": {
    "id": "F9ERgBpbcMmB"
   },
   "source": [
    "# HW1: Frame-Level Speech Recognition"
   ]
  },
  {
   "cell_type": "markdown",
   "metadata": {
    "id": "CLkH6GMGcWcE"
   },
   "source": [
    "In this homework, you will be working with MFCC data consisting of 27 features at each time step/frame. Your model should be able to recognize the phoneme occured in that frame."
   ]
  },
  {
   "cell_type": "markdown",
   "metadata": {
    "id": "z4vZbDmJvMp1"
   },
   "source": [
    "# Libraries"
   ]
  },
  {
   "cell_type": "code",
   "execution_count": 1,
   "metadata": {
    "colab": {
     "base_uri": "https://localhost:8080/"
    },
    "id": "qI4qfx7tiBZt",
    "outputId": "1f2e12ca-9d3b-4e0b-9083-fb79672fdfce"
   },
   "outputs": [
    {
     "name": "stdout",
     "output_type": "stream",
     "text": [
      "Device:  cuda\n"
     ]
    }
   ],
   "source": [
    "import torch\n",
    "import numpy as np\n",
    "from torchsummaryX import summary\n",
    "import sklearn\n",
    "import gc\n",
    "import zipfile\n",
    "import pandas as pd\n",
    "\n",
    "from tqdm.auto import tqdm\n",
    "import os\n",
    "import datetime\n",
    "import wandb\n",
    "device = 'cuda' if torch.cuda.is_available() else 'cpu'\n",
    "print(\"Device: \", device)"
   ]
  },
  {
   "cell_type": "code",
   "execution_count": 2,
   "metadata": {
    "id": "N-9qE20hmCgQ"
   },
   "outputs": [],
   "source": [
    "### PHONEME LIST\n",
    "PHONEMES = [\n",
    "            '[SIL]',   'AA',    'AE',    'AH',    'AO',    'AW',    'AY',\n",
    "            'B',     'CH',    'D',     'DH',    'EH',    'ER',    'EY',\n",
    "            'F',     'G',     'HH',    'IH',    'IY',    'JH',    'K',\n",
    "            'L',     'M',     'N',     'NG',    'OW',    'OY',    'P',\n",
    "            'R',     'S',     'SH',    'T',     'TH',    'UH',    'UW',\n",
    "            'V',     'W',     'Y',     'Z',     'ZH',    '[SOS]', '[EOS]']"
   ]
  },
  {
   "cell_type": "markdown",
   "metadata": {
    "id": "ZIi0Big7vPa9"
   },
   "source": [
    "# Kaggle"
   ]
  },
  {
   "cell_type": "markdown",
   "metadata": {
    "id": "BBCbeRhixGM7"
   },
   "source": [
    "This section contains code that helps you install kaggle's API, creating kaggle.json with you username and API key details. Make sure to input those in the given code to ensure you can download data from the competition successfully."
   ]
  },
  {
   "cell_type": "code",
   "execution_count": 3,
   "metadata": {
    "colab": {
     "base_uri": "https://localhost:8080/"
    },
    "id": "TPBUd7Cnl-Rx",
    "outputId": "0181470d-aea7-4408-a7c5-5d24eb625620"
   },
   "outputs": [],
   "source": [
    "with open(\"/home/idoit/.kaggle/kaggle.json\", \"w+\") as f:\n",
    "    f.write('{\"username\":\"elainejiang6\",\"key\":\"524b60f24f581c320573ebba88cedbbf\"}')\n",
    "    # Put your kaggle username & key here\n",
    "\n",
    "!chmod 600 /home/idoit/.kaggle/kaggle.json"
   ]
  },
  {
   "cell_type": "code",
   "execution_count": 4,
   "metadata": {
    "colab": {
     "base_uri": "https://localhost:8080/"
    },
    "id": "if2Somqfbje1",
    "outputId": "077c8936-b6b2-4672-e523-9a8cd32e69cf"
   },
   "outputs": [],
   "source": [
    "# commands to download data from kaggle\n",
    "# !kaggle competitions download -c 11785-hw1p2-s24\n",
    "# !unzip -qo 11785-hw1p2-s24.zip -d ''"
   ]
  },
  {
   "cell_type": "markdown",
   "metadata": {
    "id": "Vuzce0_TdcaR"
   },
   "source": [
    "# \n",
    "\n",
    "\n",
    "\n",
    "Dataset"
   ]
  },
  {
   "cell_type": "markdown",
   "metadata": {
    "id": "2_7QgMbBdgPp"
   },
   "source": [
    "This section covers the dataset/dataloader class for speech data. You will have to spend time writing code to create this class successfully. We have given you a lot of comments guiding you on what code to write at each stage, from top to bottom of the class. Please try and take your time figuring this out, as it will immensely help in creating dataset/dataloader classes for future homeworks.\n",
    "\n",
    "Before running the following cells, please take some time to analyse the structure of data. Try loading a single MFCC and its transcipt, print out the shapes and print out the values. Do the transcripts look like phonemes?"
   ]
  },
  {
   "cell_type": "code",
   "execution_count": 5,
   "metadata": {
    "id": "YpLCvi3AJC5z"
   },
   "outputs": [],
   "source": [
    "# Dataset class to load train and validation data\n",
    "\n",
    "class AudioDataset(torch.utils.data.Dataset):\n",
    "\n",
    "    def __init__(self, root, phonemes = PHONEMES, context=0, partition= \"train-clean-100\"): # Feel free to add more arguments\n",
    "\n",
    "        self.context    = context\n",
    "        self.phonemes   = phonemes\n",
    "\n",
    "        self.mfcc_dir       = os.path.join(root, partition, 'mfcc')\n",
    "        self.transcript_dir = os.path.join(root, partition, 'transcript')\n",
    "\n",
    "        mfcc_names          = sorted(os.listdir(self.mfcc_dir))\n",
    "        transcript_names    = sorted(os.listdir(self.transcript_dir))\n",
    "\n",
    "        # Making sure that we have the same no. of mfcc and transcripts\n",
    "        assert len(mfcc_names) == len(transcript_names)\n",
    "\n",
    "        self.mfccs, self.transcripts = [], []\n",
    "\n",
    "        # TODO: Iterate through mfccs and transcripts\n",
    "        for i in range(len(mfcc_names)):\n",
    "        #   Load a single mfcc\n",
    "            mfcc_path = os.path.join(self.mfcc_dir, mfcc_names[i])\n",
    "            mfcc        = np.load(mfcc_path)\n",
    "        #   Do Cepstral Normalization of mfcc (explained in writeup)\n",
    "            mfcc -= np.mean(mfcc, axis=0)\n",
    "            mfcc = mfcc / (np.std(mfcc, axis=0) + 1e-5)\n",
    "        #   Load the corresponding transcript\n",
    "            # Remove [SOS] and [EOS] from the transcript\n",
    "            # (Is there an efficient way to do this without traversing through the transcript?)\n",
    "            # Note that SOS will always be in the starting and EOS at end, as the name suggests.\n",
    "\n",
    "            transcript_path = os.path.join(self.transcript_dir, transcript_names[i])\n",
    "            transcript = np.load(transcript_path, allow_pickle=True)\n",
    "\n",
    "            # Remove [SOS] and [EOS] from the transcript\n",
    "            if transcript[0] == '[SOS]' and transcript[-1] == '[EOS]':\n",
    "              transcript = transcript[1:-1]\n",
    "            else:\n",
    "              transcript = transcript\n",
    "\n",
    "        #   Append each mfcc to self.mfcc, transcript to self.transcript\n",
    "            self.mfccs.append(mfcc)\n",
    "            self.transcripts.append(transcript)\n",
    "\n",
    "        # NOTE:\n",
    "        # Each mfcc is of shape T1 x 27, T2 x 27, ...\n",
    "        # Each transcript is of shape (T1+2) x 27, (T2+2) x 27 before removing [SOS] and [EOS]\n",
    "\n",
    "        # TODO: Concatenate all mfccs in self.mfccs such that\n",
    "        # the final shape is T x 27 (Where T = T1 + T2 + ...)\n",
    "        self.mfccs          = np.concatenate(self.mfccs, axis=0)\n",
    "\n",
    "        # TODO: Concatenate all transcripts in self.transcripts such that\n",
    "        # the final shape is (T,) meaning, each time step has one phoneme output\n",
    "        self.transcripts    = np.concatenate(self.transcripts, axis=0)\n",
    "        # Hint: Use numpy to concatenate\n",
    "\n",
    "        # Length of the dataset is now the length of concatenated mfccs/transcripts\n",
    "        self.length = len(self.mfccs)\n",
    "\n",
    "        # Take some time to think about what we have done.\n",
    "        # self.mfcc is an array of the format (Frames x Features).\n",
    "        # Our goal is to recognize phonemes of each frame\n",
    "        # From hw0, you will be knowing what context is.\n",
    "        # We can introduce context by padding zeros on top and bottom of self.mfcc\n",
    "        if context > 0:\n",
    "            pad_width = ((context, context), (0, 0))  # pad `context` frames at the start and end, no padding for features\n",
    "            self.mfccs = np.pad(self.mfccs, pad_width=pad_width, mode='constant', constant_values=0)\n",
    "\n",
    "        # The available phonemes in the transcript are of string data type\n",
    "        # But the neural network cannot predict strings as such.\n",
    "        # Hence, we map these phonemes to integers\n",
    "\n",
    "        # TODO: Map the phonemes to their corresponding list indexes in self.phonemes\n",
    "        phoneme_to_index = {phoneme: index for index, phoneme in enumerate(self.phonemes)}\n",
    "        self.transcripts = np.vectorize(phoneme_to_index.get)(self.transcripts)\n",
    "        # Now, if an element in self.transcript is 0, it means that it is 'SIL' (as per the above example)\n",
    "\n",
    "    def __len__(self):\n",
    "        return self.length\n",
    "\n",
    "    def __getitem__(self, ind):\n",
    "\n",
    "        # TODO: Based on context and offset, return a frame at given index with context frames to the left, and right.\n",
    "        context = self.context\n",
    "        start_index = ind\n",
    "        end_index = ind + 2 * context + 1\n",
    "        frames = self.mfccs[start_index:end_index]\n",
    "\n",
    "        # After slicing, you get an array of shape 2*context+1 x 27. But our MLP needs 1d data and not 2d.\n",
    "        # frames = frames.flatten() # TODO: Flatten to get 1d data\n",
    "\n",
    "        frames      = torch.from_numpy(frames).to(torch.float32) # Convert to tensors\n",
    "        phonemes    = torch.tensor(self.transcripts[ind]).to(torch.long)\n",
    "\n",
    "        return frames, phonemes"
   ]
  },
  {
   "cell_type": "code",
   "execution_count": 6,
   "metadata": {
    "id": "e8KfVP39S6o7"
   },
   "outputs": [],
   "source": [
    "class AudioTestDataset(torch.utils.data.Dataset):\n",
    "\n",
    "    # TODO: Create a test dataset class similar to the previous class but you dont have transcripts for this\n",
    "    # Imp: Read the mfccs in sorted order, do NOT shuffle the data here or in your dataloader.\n",
    "    def __init__(self, root, phonemes = PHONEMES, context=0, partition= \"test-clean\"):\n",
    "\n",
    "        self.context    = context\n",
    "        self.phonemes   = phonemes\n",
    "\n",
    "        self.mfcc_dir       = os.path.join(root, partition, 'mfcc')\n",
    "        mfcc_names          = sorted(os.listdir(self.mfcc_dir))\n",
    "\n",
    "\n",
    "        self.mfccs = []\n",
    "\n",
    "        for i in range(len(mfcc_names)):\n",
    "            mfcc_path = os.path.join(self.mfcc_dir, mfcc_names[i])\n",
    "            mfcc        = np.load(mfcc_path)\n",
    "        #   Do Cepstral Normalization of mfcc (explained in writeup)\n",
    "            mfcc -= np.mean(mfcc, axis=0)\n",
    "            mfcc /= np.std(mfcc, axis=0) + 1e-5\n",
    "\n",
    "            self.mfccs.append(mfcc)\n",
    "\n",
    "        self.mfccs          = np.concatenate(self.mfccs, axis=0)\n",
    "        self.length = len(self.mfccs)\n",
    "\n",
    "        if context > 0:\n",
    "            pad_width = ((context, context), (0, 0))  # pad `context` frames at the start and end, no padding for features\n",
    "            self.mfccs = np.pad(self.mfccs, pad_width=pad_width, mode='constant', constant_values=0)\n",
    "\n",
    "    def __len__(self):\n",
    "        return self.length\n",
    "\n",
    "    def __getitem__(self, ind):\n",
    "\n",
    "        # TODO: Based on context and offset, return a frame at given index with context frames to the left, and right.\n",
    "        context = self.context\n",
    "        start_index = ind\n",
    "        end_index = ind + 2 * context + 1\n",
    "        frames = self.mfccs[start_index:end_index]\n",
    "\n",
    "        # After slicing, you get an array of shape 2*context+1 x 27. But our MLP needs 1d data and not 2d.\n",
    "        frames = frames.flatten() # TODO: Flatten to get 1d data\n",
    "\n",
    "        frames      = torch.FloatTensor(frames) # Convert to tensors\n",
    "\n",
    "        return frames"
   ]
  },
  {
   "cell_type": "markdown",
   "metadata": {
    "id": "qNacQ8bpt9nw"
   },
   "source": [
    "# Parameters Configuration"
   ]
  },
  {
   "cell_type": "markdown",
   "metadata": {
    "id": "WE7tsinAuLNy"
   },
   "source": [
    "Storing your parameters and hyperparameters in a single configuration dictionary makes it easier to keep track of them during each experiment. It can also be used with weights and biases to log your parameters for each experiment and keep track of them across multiple experiments."
   ]
  },
  {
   "cell_type": "code",
   "execution_count": 7,
   "metadata": {
    "id": "PmKwlFqgt_Zq"
   },
   "outputs": [],
   "source": [
    "config = {\n",
    "    'epochs'        : 20,\n",
    "    'batch_size'    : 2048,\n",
    "    'context'       : 20,\n",
    "    'init_lr'       : 1e-4,\n",
    "    'architecture'  : 'very-low-cutoff',\n",
    "    'patience'      : 1,\n",
    "    # Add more as you need them - e.g dropout values, weight decay, scheduler parameters\n",
    "}"
   ]
  },
  {
   "cell_type": "markdown",
   "metadata": {
    "id": "2mlwaKlDt_2c"
   },
   "source": [
    "# Create Datasets"
   ]
  },
  {
   "cell_type": "code",
   "execution_count": 8,
   "metadata": {
    "colab": {
     "base_uri": "https://localhost:8080/"
    },
    "id": "MjaVTV5C0eRL",
    "outputId": "2a64ea15-dce2-4911-94ae-641994aaedad"
   },
   "outputs": [
    {
     "data": {
      "text/plain": [
       "array(['[SOS]', '[SIL]', '[SIL]', ..., '[SIL]', '[SIL]', '[EOS]'],\n",
       "      dtype='<U5')"
      ]
     },
     "execution_count": 8,
     "metadata": {},
     "output_type": "execute_result"
    }
   ],
   "source": [
    "np.load('11-785-s24-hw1p2/train-clean-100/transcript/103-1240-0000.npy')"
   ]
  },
  {
   "cell_type": "code",
   "execution_count": 9,
   "metadata": {
    "id": "7xi7V8x8W9z4"
   },
   "outputs": [],
   "source": [
    "#TODO: Create a dataset object using the AudioDataset class for the training data\n",
    "train_data = AudioDataset(\n",
    "    root = '11-785-s24-hw1p2',\n",
    "    context=config['context']\n",
    "    )\n",
    "\n",
    "test_data = AudioTestDataset(root = '11-785-s24-hw1p2',\n",
    "    context=config['context'])\n",
    "\n",
    "val_data = AudioDataset(root = '11-785-s24-hw1p2',\n",
    "    context=config['context'],partition= \"dev-clean\")"
   ]
  },
  {
   "cell_type": "code",
   "execution_count": 10,
   "metadata": {
    "colab": {
     "base_uri": "https://localhost:8080/"
    },
    "id": "4mzoYfTKu14s",
    "outputId": "d8c119c0-71d0-4b50-ee49-c133cc91a7c7"
   },
   "outputs": [
    {
     "name": "stdout",
     "output_type": "stream",
     "text": [
      "Batch size     :  2048\n",
      "Context        :  20\n",
      "Input size     :  1107\n",
      "Output symbols :  42\n",
      "Train dataset samples = 36091157, batches = 17623\n",
      "Validation dataset samples = 1928204, batches = 942\n",
      "Test dataset samples = 1934138, batches = 945\n"
     ]
    }
   ],
   "source": [
    "# Define dataloaders for train, val and test datasets\n",
    "# Dataloaders will yield a batch of frames and phonemes of given batch_size at every iteration\n",
    "# We shuffle train dataloader but not val & test dataloader. Why?\n",
    "\n",
    "train_loader = torch.utils.data.DataLoader(\n",
    "    dataset     = train_data,\n",
    "    num_workers = 4,\n",
    "    batch_size  = config['batch_size'],\n",
    "    pin_memory  = True,\n",
    "    shuffle     = True\n",
    ")\n",
    "\n",
    "val_loader = torch.utils.data.DataLoader(\n",
    "    dataset     = val_data,\n",
    "    num_workers = 2,\n",
    "    batch_size  = config['batch_size'],\n",
    "    pin_memory  = True,\n",
    "    shuffle     = False\n",
    ")\n",
    "\n",
    "test_loader = torch.utils.data.DataLoader(\n",
    "    dataset     = test_data,\n",
    "    num_workers = 2,\n",
    "    batch_size  = config['batch_size'],\n",
    "    pin_memory  = True,\n",
    "    shuffle     = False\n",
    ")\n",
    "\n",
    "\n",
    "print(\"Batch size     : \", config['batch_size'])\n",
    "print(\"Context        : \", config['context'])\n",
    "print(\"Input size     : \", (2*config['context']+1)*27)\n",
    "print(\"Output symbols : \", len(PHONEMES))\n",
    "\n",
    "print(\"Train dataset samples = {}, batches = {}\".format(train_data.__len__(), len(train_loader)))\n",
    "print(\"Validation dataset samples = {}, batches = {}\".format(val_data.__len__(), len(val_loader)))\n",
    "print(\"Test dataset samples = {}, batches = {}\".format(test_data.__len__(), len(test_loader)))"
   ]
  },
  {
   "cell_type": "code",
   "execution_count": 11,
   "metadata": {
    "colab": {
     "base_uri": "https://localhost:8080/"
    },
    "id": "n-GV3UvgLSoF",
    "outputId": "df14ac35-812a-4173-fe30-c95966ef3169"
   },
   "outputs": [
    {
     "name": "stdout",
     "output_type": "stream",
     "text": [
      "torch.Size([2048, 41, 27]) torch.Size([2048])\n"
     ]
    }
   ],
   "source": [
    "# Testing code to check if your data loaders are working\n",
    "for i, data in enumerate(train_loader):\n",
    "    frames, phoneme = data\n",
    "    print(frames.shape, phoneme.shape)\n",
    "    break"
   ]
  },
  {
   "cell_type": "markdown",
   "metadata": {
    "id": "Nxjwve20JRJ2"
   },
   "source": [
    "# Network Architecture\n"
   ]
  },
  {
   "cell_type": "markdown",
   "metadata": {
    "id": "3NJzT-mRw6iy"
   },
   "source": [
    "This section defines your network architecture for the homework. We have given you a sample architecture that can easily clear the very low cutoff for the early submission deadline."
   ]
  },
  {
   "cell_type": "code",
   "execution_count": 12,
   "metadata": {
    "id": "OvcpontXQq9j"
   },
   "outputs": [],
   "source": [
    "import torch.nn as nn\n",
    "import math\n",
    "\n",
    "\n",
    "class MLPBlock(nn.Module):\n",
    "  def __init__(self, d_model, p, skip):\n",
    "\n",
    "    super(MLPBlock, self).__init__()\n",
    "\n",
    "    self.skip = skip\n",
    "    self.model = torch.nn.Sequential(\n",
    "      torch.nn.BatchNorm1d(d_model),\n",
    "      torch.nn.Linear(d_model, d_model),\n",
    "      torch.nn.GELU(),\n",
    "      torch.nn.Dropout(p),\n",
    "    )\n",
    "\n",
    "  def forward(self, x):\n",
    "      out = self.model(x)\n",
    "      if self.skip:\n",
    "        out = out + x\n",
    "      return out\n",
    "\n",
    "      \n",
    "\n",
    "# This architecture will make you cross the very low cutoff\n",
    "# However, you need to run a lot of experiments to cross the medium or high cutoff\n",
    "class Network(torch.nn.Module):\n",
    "\n",
    "    def __init__(self,\n",
    "                 input_size,\n",
    "                 output_size,\n",
    "                 d_model= 1200,\n",
    "                 num_block = 7,\n",
    "                 p=0.3,\n",
    "                 skip=True,\n",
    "                ):\n",
    "        super(Network, self).__init__()\n",
    "\n",
    "        models = []\n",
    "        models.append(nn.Flatten())\n",
    "        models.append(nn.Linear(input_size, d_model))\n",
    "        models.append(nn.GELU())\n",
    "        for i in range(num_block):\n",
    "          models.append(MLPBlock(d_model, p, skip))\n",
    "        models.append(nn.Linear(d_model, output_size))\n",
    "\n",
    "        self.model = nn.Sequential(*models)\n",
    "\n",
    "    def forward(self, x):\n",
    "        out = self.model(x)\n",
    "        return out\n",
    "\n",
    "# class Network(nn.Module):\n",
    "#   def __init__(self, input_size, output_size):\n",
    "#     super().__init__()\n",
    "\n",
    "#     d_model = 256\n",
    "#     n_tokens = 4\n",
    "\n",
    "#     self.d_model = d_model\n",
    "#     self.n_tokens = n_tokens\n",
    "\n",
    "#     # input mapping\n",
    "#     self.encode = nn.Sequential(\n",
    "#       nn.LayerNorm(input_size),\n",
    "#       nn.Linear(input_size, d_model * n_tokens),\n",
    "#       nn.GELU(),\n",
    "#     )\n",
    "\n",
    "#     # transformer\n",
    "#     encoder_layer = nn.TransformerEncoderLayer(d_model=d_model, nhead=4, activation='gelu', batch_first=True)\n",
    "#     self.transformer_encoder = nn.TransformerEncoder(encoder_layer, num_layers=1)\n",
    "\n",
    "#     # classier\n",
    "#     self.classier_head = nn.Linear(d_model, output_size)\n",
    "\n",
    "#   def forward(self, x):\n",
    "#     x = self.encode(x)\n",
    "#     x = x.view(list(x.shape[:-1]) + [self.n_tokens, self.d_model])\n",
    "#     x = self.transformer_encoder(x).mean(-2)\n",
    "#     return self.classier_head(x)\n",
    "\n",
    "# Network(INPUT_SIZE, len(train_data.phonemes))(torch.randn(1, 41, 27))\n",
    "\n",
    "\n",
    "# class PositionalEncoding(nn.Module):\n",
    "\n",
    "#     def __init__(self, d_model: int, dropout: float = 0.1, max_len: int = 5000):\n",
    "#         super().__init__()\n",
    "#         self.dropout = nn.Dropout(p=dropout)\n",
    "\n",
    "#         position = torch.arange(max_len).unsqueeze(1)\n",
    "#         div_term = torch.exp(torch.arange(0, d_model, 2) * (-math.log(10000.0) / d_model))\n",
    "#         pe = torch.zeros(max_len, d_model)\n",
    "#         pe[:, 0::2] = torch.sin(position * div_term)\n",
    "#         pe[:, 1::2] = torch.cos(position * div_term)\n",
    "#         self.register_buffer('pe', pe)\n",
    "\n",
    "#     def forward(self, x):\n",
    "#         \"\"\"\n",
    "#         Arguments:\n",
    "#             x: Tensor, shape ``[batch_size, seq_len, embedding_dim]``\n",
    "#         \"\"\"\n",
    "#         x = x + self.pe[:x.size(1)][None]\n",
    "#         return self.dropout(x)\n",
    "\n",
    "# class Network(nn.Module):\n",
    "#   def __init__(self, input_size, output_size):\n",
    "#     super().__init__()\n",
    "\n",
    "#     d_model = 256\n",
    "#     frame_d = 27\n",
    "\n",
    "#     self.d_model = d_model\n",
    "#     self.pe = PositionalEncoding(d_model)\n",
    "\n",
    "#     # input mapping\n",
    "#     self.encode = nn.Sequential(\n",
    "#       nn.Linear(frame_d, d_model),\n",
    "#       nn.GELU(),\n",
    "#       nn.LayerNorm(d_model),\n",
    "#     )\n",
    "\n",
    "#     # transformer\n",
    "#     encoder_layer = nn.TransformerEncoderLayer(d_model=d_model, nhead=4, activation='gelu', batch_first=True)\n",
    "#     self.transformer_encoder = nn.TransformerEncoder(encoder_layer, num_layers=1)\n",
    "\n",
    "#     # classier\n",
    "#     self.classier_head = nn.Sequential(\n",
    "#       nn.Linear(d_model, d_model),\n",
    "#       nn.GELU(),\n",
    "#       nn.Linear(d_model, output_size)\n",
    "#     )\n",
    "\n",
    "#   def forward(self, x):\n",
    "#     x = self.encode(x)\n",
    "#     x = self.pe(x)\n",
    "#     x = self.transformer_encoder(x)[:, x.size(1) // 2]\n",
    "#     return self.classier_head(x)"
   ]
  },
  {
   "cell_type": "code",
   "execution_count": 13,
   "metadata": {},
   "outputs": [],
   "source": [
    "class FocalLoss(nn.Module):\n",
    "    def __init__(self, gamma=2.0, alpha=0.25):\n",
    "        super(FocalLoss, self).__init__()\n",
    "        self.gamma = gamma\n",
    "        self.alpha = alpha\n",
    "\n",
    "    def forward(self, input, target):\n",
    "        # compute cross entropy loss\n",
    "        ce_loss = torch.nn.functional.cross_entropy(input, target, reduction='none')\n",
    "\n",
    "        # compute focal loss\n",
    "        pt = torch.exp(-ce_loss)\n",
    "        focal_loss = self.alpha * (1 - pt)**self.gamma * ce_loss\n",
    "\n",
    "        return focal_loss.mean()"
   ]
  },
  {
   "cell_type": "code",
   "execution_count": 14,
   "metadata": {},
   "outputs": [],
   "source": [
    "# from torch.cuda.amp import GradScaler\n",
    "\n",
    "# INPUT_SIZE  = (2*config['context'] + 1) * 27 # Why is this the case?\n",
    "# model       = Network(INPUT_SIZE, len(train_data.phonemes)).to(device)\n",
    "# model = torch.nn.DataParallel(model)\n",
    "\n",
    "# # criterion = torch.nn.CrossEntropyLoss().to(device) # Defining Loss function.\n",
    "# criterion = FocalLoss().to(device)\n",
    "# # We use CE because the task is multi-class classification\n",
    "\n",
    "# optimizer = torch.optim.AdamW(model.parameters(), lr=2e-5) #Defining Optimizer\n",
    "\n",
    "# scaler = GradScaler()\n",
    "\n",
    "# model.train()\n",
    "# tloss, tacc = 0, 0 # Monitoring loss and accuracy\n",
    "# batch_bar   = tqdm(total=len(train_loader), dynamic_ncols=True, leave=False, position=0, desc='Train')\n",
    "\n",
    "# for i, (frames, phonemes) in enumerate(train_loader):\n",
    "\n",
    "#     ### Initialize Gradients\n",
    "#     # optimizer.zero_grad()\n",
    "\n",
    "#     ### Move Data to Device (Ideally GPU)\n",
    "#     frames      = frames.to(device)\n",
    "#     phonemes    = phonemes.to(device)\n",
    "\n",
    "#     ### Forward Propagation\n",
    "#     with torch.autocast(device_type='cuda', dtype=torch.float16):\n",
    "#         logits  = model(frames)\n",
    "#         loss    = criterion(logits, phonemes)\n",
    "\n",
    "#     ### Backward Propagation\n",
    "#     loss.backward()\n",
    "\n",
    "#     ### Gradient Descent\n",
    "#     optimizer.step()\n",
    "\n",
    "#     tloss   += loss.item()\n",
    "#     tacc    += torch.sum(torch.argmax(logits, dim= 1) == phonemes).item()/logits.shape[0]\n",
    "\n",
    "#     batch_bar.set_postfix(loss=\"{:.04f}\".format(float(tloss / (i + 1))),\n",
    "#                           acc=\"{:.04f}%\".format(float(tacc*100 / (i + 1))))\n",
    "#     batch_bar.update()\n",
    "\n",
    "#     ### Release memory\n",
    "#     # del frames, phonemes, logits\n",
    "#     # torch.cuda.empty_cache()"
   ]
  },
  {
   "cell_type": "markdown",
   "metadata": {
    "id": "HejoSXe3vMVU"
   },
   "source": [
    "# Define Model, Loss Function and Optimizer"
   ]
  },
  {
   "cell_type": "markdown",
   "metadata": {
    "id": "xAhGBH7-xxth"
   },
   "source": [
    "Here we define the model, loss function, optimizer and optionally a learning rate scheduler."
   ]
  },
  {
   "cell_type": "code",
   "execution_count": 15,
   "metadata": {
    "colab": {
     "base_uri": "https://localhost:8080/",
     "height": 402
    },
    "id": "_qtrEM1ZvLje",
    "outputId": "1492c077-48c5-4b8e-8096-30e875fdd305"
   },
   "outputs": [
    {
     "data": {
      "text/plain": [
       "torch.Size([2048, 42])"
      ]
     },
     "execution_count": 15,
     "metadata": {},
     "output_type": "execute_result"
    }
   ],
   "source": [
    "INPUT_SIZE  = (2*config['context'] + 1) * 27 # Why is this the case?\n",
    "model       = Network(INPUT_SIZE, len(train_data.phonemes)).to(device)\n",
    "# summary(model, frames.to(device))\n",
    "model(frames.to(device)).shape\n",
    "# Check number of parameters of your network\n",
    "# Remember, you are limited to 24 million parameters for HW1 (including ensembles)"
   ]
  },
  {
   "cell_type": "code",
   "execution_count": 16,
   "metadata": {},
   "outputs": [],
   "source": [
    "from torch.optim.lr_scheduler import ReduceLROnPlateau,StepLR,MultiStepLR"
   ]
  },
  {
   "cell_type": "code",
   "execution_count": 17,
   "metadata": {
    "id": "UROGEVJevKD-"
   },
   "outputs": [],
   "source": [
    "criterion = torch.nn.CrossEntropyLoss() # Defining Loss function.\n",
    "# We use CE because the task is multi-class classification\n",
    "\n",
    "optimizer = torch.optim.AdamW(model.parameters(), lr= config['init_lr']) #Defining Optimizer\n",
    "# scheduler = ReduceLROnPlateau(optimizer, 'min', patience = config['patience'])\n",
    "scheduler = MultiStepLR(optimizer,  milestones=[3,6,9,12,15,18], gamma=0.7)\n",
    "# Recommended : Define Scheduler for Learning Rate,\n",
    "# including but not limited to StepLR, MultiStepLR, CosineAnnealingLR, ReduceLROnPlateau, etc.\n",
    "# You can refer to Pytorch documentation for more information on how to use them.\n",
    "\n",
    "# Is your training time very high?\n",
    "# Look into mixed precision training if your GPU (Tesla T4, V100, etc) can make use of it\n",
    "# Refer - https://pytorch.org/docs/stable/notes/amp_examples.html"
   ]
  },
  {
   "cell_type": "markdown",
   "metadata": {
    "id": "IBwunYpyugFg"
   },
   "source": [
    "# Training and Validation Functions"
   ]
  },
  {
   "cell_type": "markdown",
   "metadata": {
    "id": "1JgeNhx4x2-P"
   },
   "source": [
    "This section covers the training, and validation functions for each epoch of running your experiment with a given model architecture. The code has been provided to you, but we recommend going through the comments to understand the workflow to enable you to write these loops for future HWs."
   ]
  },
  {
   "cell_type": "code",
   "execution_count": 18,
   "metadata": {
    "id": "XblOHEVtKab2"
   },
   "outputs": [
    {
     "data": {
      "text/plain": [
       "150"
      ]
     },
     "execution_count": 18,
     "metadata": {},
     "output_type": "execute_result"
    }
   ],
   "source": [
    "torch.cuda.empty_cache()\n",
    "gc.collect()"
   ]
  },
  {
   "cell_type": "code",
   "execution_count": 19,
   "metadata": {
    "id": "8wjPz7DHqKcL"
   },
   "outputs": [],
   "source": [
    "def train(model, dataloader, optimizer, criterion, epoch):\n",
    "\n",
    "    model.train()\n",
    "    tloss, tacc = 0, 0 # Monitoring loss and accuracy\n",
    "    batch_bar   = tqdm(total=len(train_loader), dynamic_ncols=True, leave=False, position=0, desc='Train')\n",
    "    st_ind = epoch * len(dataloader)\n",
    "\n",
    "    for i, (frames, phonemes) in enumerate(dataloader):\n",
    "\n",
    "        ### Initialize Gradients\n",
    "        optimizer.zero_grad()\n",
    "\n",
    "        ### Move Data to Device (Ideally GPU)\n",
    "        frames      = frames.to(device)\n",
    "        phonemes    = phonemes.to(device)\n",
    "\n",
    "        ### Forward Propagation\n",
    "        logits  = model(frames)\n",
    "\n",
    "        ### Loss Calculation\n",
    "        loss    = criterion(logits, phonemes)\n",
    "\n",
    "        ### Backward Propagation\n",
    "        loss.backward()\n",
    "\n",
    "        ### Gradient Descent\n",
    "        optimizer.step()\n",
    "\n",
    "        tloss   += loss.item()\n",
    "        tacc    += torch.sum(torch.argmax(logits, dim= 1) == phonemes).item()/logits.shape[0]\n",
    "\n",
    "        batch_bar.set_postfix(loss=\"{:.04f}\".format(float(tloss / (i + 1))),\n",
    "                              acc=\"{:.04f}%\".format(float(tacc*100 / (i + 1))))\n",
    "        batch_bar.update()\n",
    "\n",
    "        # log\n",
    "        if i % 1000 == 0:\n",
    "          wandb.log({\n",
    "            'train/loss': float(tloss / (i + 1)),\n",
    "            'train/acc': float(tacc*100 / (i + 1)),\n",
    "            'step': st_ind + i,\n",
    "          })\n",
    "\n",
    "        ### Release memory\n",
    "        # del frames, phonemes, logits\n",
    "        # torch.cuda.empty_cache()\n",
    "\n",
    "    batch_bar.close()\n",
    "    tloss   /= len(train_loader)\n",
    "    tacc    /= len(train_loader)\n",
    "\n",
    "    return tloss, tacc"
   ]
  },
  {
   "cell_type": "code",
   "execution_count": 20,
   "metadata": {
    "id": "Q5npQNFH315V"
   },
   "outputs": [],
   "source": [
    "def eval(model, dataloader):\n",
    "\n",
    "    model.eval() # set model in evaluation mode\n",
    "    vloss, vacc = 0, 0 # Monitoring loss and accuracy\n",
    "    batch_bar   = tqdm(total=len(val_loader), dynamic_ncols=True, position=0, leave=False, desc='Val')\n",
    "\n",
    "    for i, (frames, phonemes) in enumerate(dataloader):\n",
    "\n",
    "        ### Move data to device (ideally GPU)\n",
    "        frames      = frames.to(device)\n",
    "        phonemes    = phonemes.to(device)\n",
    "\n",
    "        # makes sure that there are no gradients computed as we are not training the model now\n",
    "        with torch.inference_mode():\n",
    "            ### Forward Propagation\n",
    "            logits  = model(frames)\n",
    "            ### Loss Calculation\n",
    "            loss    = criterion(logits, phonemes)\n",
    "\n",
    "        vloss   += loss.item()\n",
    "        vacc    += torch.sum(torch.argmax(logits, dim= 1) == phonemes).item()/logits.shape[0]\n",
    "\n",
    "        # Do you think we need loss.backward() and optimizer.step() here?\n",
    "\n",
    "        batch_bar.set_postfix(loss=\"{:.04f}\".format(float(vloss / (i + 1))),\n",
    "                              acc=\"{:.04f}%\".format(float(vacc*100 / (i + 1))))\n",
    "        batch_bar.update()\n",
    "\n",
    "        ### Release memory\n",
    "        del frames, phonemes, logits\n",
    "        torch.cuda.empty_cache()\n",
    "\n",
    "    batch_bar.close()\n",
    "    vloss   /= len(val_loader)\n",
    "    vacc    /= len(val_loader)\n",
    "\n",
    "    return vloss, vacc"
   ]
  },
  {
   "cell_type": "markdown",
   "metadata": {
    "id": "yMd_XxPku5qp"
   },
   "source": [
    "# Weights and Biases Setup"
   ]
  },
  {
   "cell_type": "markdown",
   "metadata": {
    "id": "tjIbhR1wwbgI"
   },
   "source": [
    "This section is to enable logging metrics and files with Weights and Biases. Please refer to wandb documentationa and recitation 0 that covers the use of weights and biases for logging, hyperparameter tuning and monitoring your runs for your homeworks. Using this tool makes it very easy to show results when submitting your code and models for homeworks, and also extremely useful for study groups to organize and run ablations under a single team in wandb.\n",
    "\n",
    "We have written code for you to make use of it out of the box, so that you start using wandb for all your HWs from the beginning."
   ]
  },
  {
   "cell_type": "code",
   "execution_count": 21,
   "metadata": {
    "id": "SCDYx5VEu6qI"
   },
   "outputs": [
    {
     "name": "stderr",
     "output_type": "stream",
     "text": [
      "\u001b[34m\u001b[1mwandb\u001b[0m: Currently logged in as: \u001b[33mjiangfan892\u001b[0m. Use \u001b[1m`wandb login --relogin`\u001b[0m to force relogin\n",
      "\u001b[34m\u001b[1mwandb\u001b[0m: \u001b[33mWARNING\u001b[0m If you're specifying your api key in code, ensure this code is not shared publicly.\n",
      "\u001b[34m\u001b[1mwandb\u001b[0m: \u001b[33mWARNING\u001b[0m Consider setting the WANDB_API_KEY environment variable, or running `wandb login` from the command line.\n",
      "\u001b[34m\u001b[1mwandb\u001b[0m: Appending key for api.wandb.ai to your netrc file: /home/idoit/.netrc\n"
     ]
    },
    {
     "data": {
      "text/plain": [
       "True"
      ]
     },
     "execution_count": 21,
     "metadata": {},
     "output_type": "execute_result"
    }
   ],
   "source": [
    "wandb.login(key=\"ae6f0b7581bd32fe30620ae74a71a7c2e4d30250\") #API Key is in your wandb account, under settings (wandb.ai/settings)"
   ]
  },
  {
   "cell_type": "code",
   "execution_count": 22,
   "metadata": {
    "id": "xvUnYd3Bw2up"
   },
   "outputs": [
    {
     "data": {
      "text/html": [
       "Tracking run with wandb version 0.16.3"
      ],
      "text/plain": [
       "<IPython.core.display.HTML object>"
      ]
     },
     "metadata": {},
     "output_type": "display_data"
    },
    {
     "data": {
      "text/html": [
       "Run data is saved locally in <code>/home/idoit/Desktop/fanjiang/wandb/run-20240209_184826-pf1w6tfx</code>"
      ],
      "text/plain": [
       "<IPython.core.display.HTML object>"
      ]
     },
     "metadata": {},
     "output_type": "display_data"
    },
    {
     "data": {
      "text/html": [
       "Syncing run <strong><a href='https://wandb.ai/jiangfan892/hw1p2/runs/pf1w6tfx' target=\"_blank\">run_sched_skip_steplr2</a></strong> to <a href='https://wandb.ai/jiangfan892/hw1p2' target=\"_blank\">Weights & Biases</a> (<a href='https://wandb.me/run' target=\"_blank\">docs</a>)<br/>"
      ],
      "text/plain": [
       "<IPython.core.display.HTML object>"
      ]
     },
     "metadata": {},
     "output_type": "display_data"
    },
    {
     "data": {
      "text/html": [
       " View project at <a href='https://wandb.ai/jiangfan892/hw1p2' target=\"_blank\">https://wandb.ai/jiangfan892/hw1p2</a>"
      ],
      "text/plain": [
       "<IPython.core.display.HTML object>"
      ]
     },
     "metadata": {},
     "output_type": "display_data"
    },
    {
     "data": {
      "text/html": [
       " View run at <a href='https://wandb.ai/jiangfan892/hw1p2/runs/pf1w6tfx' target=\"_blank\">https://wandb.ai/jiangfan892/hw1p2/runs/pf1w6tfx</a>"
      ],
      "text/plain": [
       "<IPython.core.display.HTML object>"
      ]
     },
     "metadata": {},
     "output_type": "display_data"
    }
   ],
   "source": [
    "# Create your wandb run\n",
    "name = \"run_sched_skip_steplr2\"\n",
    "run = wandb.init(\n",
    "    name    = name, ### Wandb creates random run names if you skip this field, we recommend you give useful names\n",
    "    reinit  = True, ### Allows reinitalizing runs when you re-run this cell\n",
    "    #id     = \"y28t31uz\", ### Insert specific run id here if you want to resume a previous run\n",
    "    #resume = \"must\", ### You need this to resume previous runs, but comment out reinit = True when using this\n",
    "    project = \"hw1p2\", ### Project should be created in your wandb account\n",
    "    config  = config ### Wandb Config for your run\n",
    ")"
   ]
  },
  {
   "cell_type": "code",
   "execution_count": 23,
   "metadata": {
    "id": "wft15E_IxYFi"
   },
   "outputs": [
    {
     "data": {
      "text/plain": [
       "['/home/idoit/Desktop/fanjiang/wandb/run-20240209_184826-pf1w6tfx/files/model_arch.txt']"
      ]
     },
     "execution_count": 23,
     "metadata": {},
     "output_type": "execute_result"
    }
   ],
   "source": [
    "### Save your model architecture as a string with str(model)\n",
    "model_arch  = str(model)\n",
    "\n",
    "### Save it in a txt file\n",
    "arch_file   = open(\"model_arch.txt\", \"w\")\n",
    "file_write  = arch_file.write(model_arch)\n",
    "arch_file.close()\n",
    "\n",
    "### log it in your wandb run with wandb.save()\n",
    "wandb.save('model_arch.txt')"
   ]
  },
  {
   "cell_type": "markdown",
   "metadata": {
    "id": "nclx_04fu7Dd"
   },
   "source": [
    "# Experiment"
   ]
  },
  {
   "cell_type": "markdown",
   "metadata": {
    "id": "MdLMWfEpyGOB"
   },
   "source": [
    "Now, it is time to finally run your ablations! Have fun!"
   ]
  },
  {
   "cell_type": "code",
   "execution_count": 24,
   "metadata": {
    "id": "MG4F77Nm0Am9"
   },
   "outputs": [
    {
     "name": "stdout",
     "output_type": "stream",
     "text": [
      "\n",
      "Epoch 1/20\n"
     ]
    },
    {
     "data": {
      "application/vnd.jupyter.widget-view+json": {
       "model_id": "",
       "version_major": 2,
       "version_minor": 0
      },
      "text/plain": [
       "Train:   0%|                                                                            | 0/17623 [00:00<?, ?i…"
      ]
     },
     "metadata": {},
     "output_type": "display_data"
    },
    {
     "data": {
      "application/vnd.jupyter.widget-view+json": {
       "model_id": "",
       "version_major": 2,
       "version_minor": 0
      },
      "text/plain": [
       "Val:   0%|                                                                                | 0/942 [00:00<?, ?i…"
      ]
     },
     "metadata": {},
     "output_type": "display_data"
    },
    {
     "name": "stdout",
     "output_type": "stream",
     "text": [
      "\tTrain Acc 74.2924%\tTrain Loss 0.8005\t Learning Rate 0.0001000\n",
      "\tVal Acc 78.6675%\tVal Loss 0.6473\n",
      "\n",
      "Epoch 2/20\n"
     ]
    },
    {
     "data": {
      "application/vnd.jupyter.widget-view+json": {
       "model_id": "",
       "version_major": 2,
       "version_minor": 0
      },
      "text/plain": [
       "Train:   0%|                                                                            | 0/17623 [00:00<?, ?i…"
      ]
     },
     "metadata": {},
     "output_type": "display_data"
    },
    {
     "data": {
      "application/vnd.jupyter.widget-view+json": {
       "model_id": "",
       "version_major": 2,
       "version_minor": 0
      },
      "text/plain": [
       "Val:   0%|                                                                                | 0/942 [00:00<?, ?i…"
      ]
     },
     "metadata": {},
     "output_type": "display_data"
    },
    {
     "name": "stdout",
     "output_type": "stream",
     "text": [
      "\tTrain Acc 80.7824%\tTrain Loss 0.5780\t Learning Rate 0.0001000\n",
      "\tVal Acc 80.4518%\tVal Loss 0.5903\n",
      "\n",
      "Epoch 3/20\n"
     ]
    },
    {
     "data": {
      "application/vnd.jupyter.widget-view+json": {
       "model_id": "",
       "version_major": 2,
       "version_minor": 0
      },
      "text/plain": [
       "Train:   0%|                                                                            | 0/17623 [00:00<?, ?i…"
      ]
     },
     "metadata": {},
     "output_type": "display_data"
    },
    {
     "data": {
      "application/vnd.jupyter.widget-view+json": {
       "model_id": "",
       "version_major": 2,
       "version_minor": 0
      },
      "text/plain": [
       "Val:   0%|                                                                                | 0/942 [00:00<?, ?i…"
      ]
     },
     "metadata": {},
     "output_type": "display_data"
    },
    {
     "name": "stdout",
     "output_type": "stream",
     "text": [
      "\tTrain Acc 82.6099%\tTrain Loss 0.5167\t Learning Rate 0.0001000\n",
      "\tVal Acc 81.1207%\tVal Loss 0.5700\n",
      "\n",
      "Epoch 4/20\n"
     ]
    },
    {
     "data": {
      "application/vnd.jupyter.widget-view+json": {
       "model_id": "",
       "version_major": 2,
       "version_minor": 0
      },
      "text/plain": [
       "Train:   0%|                                                                            | 0/17623 [00:00<?, ?i…"
      ]
     },
     "metadata": {},
     "output_type": "display_data"
    },
    {
     "data": {
      "application/vnd.jupyter.widget-view+json": {
       "model_id": "",
       "version_major": 2,
       "version_minor": 0
      },
      "text/plain": [
       "Val:   0%|                                                                                | 0/942 [00:00<?, ?i…"
      ]
     },
     "metadata": {},
     "output_type": "display_data"
    },
    {
     "name": "stdout",
     "output_type": "stream",
     "text": [
      "\tTrain Acc 84.0712%\tTrain Loss 0.4686\t Learning Rate 0.0000700\n",
      "\tVal Acc 81.6187%\tVal Loss 0.5562\n",
      "\n",
      "Epoch 5/20\n"
     ]
    },
    {
     "data": {
      "application/vnd.jupyter.widget-view+json": {
       "model_id": "",
       "version_major": 2,
       "version_minor": 0
      },
      "text/plain": [
       "Train:   0%|                                                                            | 0/17623 [00:00<?, ?i…"
      ]
     },
     "metadata": {},
     "output_type": "display_data"
    },
    {
     "data": {
      "application/vnd.jupyter.widget-view+json": {
       "model_id": "",
       "version_major": 2,
       "version_minor": 0
      },
      "text/plain": [
       "Val:   0%|                                                                                | 0/942 [00:00<?, ?i…"
      ]
     },
     "metadata": {},
     "output_type": "display_data"
    },
    {
     "name": "stdout",
     "output_type": "stream",
     "text": [
      "\tTrain Acc 84.7262%\tTrain Loss 0.4467\t Learning Rate 0.0000700\n",
      "\tVal Acc 81.7556%\tVal Loss 0.5544\n",
      "\n",
      "Epoch 6/20\n"
     ]
    },
    {
     "data": {
      "application/vnd.jupyter.widget-view+json": {
       "model_id": "",
       "version_major": 2,
       "version_minor": 0
      },
      "text/plain": [
       "Train:   0%|                                                                            | 0/17623 [00:00<?, ?i…"
      ]
     },
     "metadata": {},
     "output_type": "display_data"
    },
    {
     "data": {
      "application/vnd.jupyter.widget-view+json": {
       "model_id": "",
       "version_major": 2,
       "version_minor": 0
      },
      "text/plain": [
       "Val:   0%|                                                                                | 0/942 [00:00<?, ?i…"
      ]
     },
     "metadata": {},
     "output_type": "display_data"
    },
    {
     "name": "stdout",
     "output_type": "stream",
     "text": [
      "\tTrain Acc 85.1876%\tTrain Loss 0.4313\t Learning Rate 0.0000700\n",
      "\tVal Acc 81.8050%\tVal Loss 0.5549\n",
      "\n",
      "Epoch 7/20\n"
     ]
    },
    {
     "data": {
      "application/vnd.jupyter.widget-view+json": {
       "model_id": "",
       "version_major": 2,
       "version_minor": 0
      },
      "text/plain": [
       "Train:   0%|                                                                            | 0/17623 [00:00<?, ?i…"
      ]
     },
     "metadata": {},
     "output_type": "display_data"
    },
    {
     "data": {
      "application/vnd.jupyter.widget-view+json": {
       "model_id": "",
       "version_major": 2,
       "version_minor": 0
      },
      "text/plain": [
       "Val:   0%|                                                                                | 0/942 [00:00<?, ?i…"
      ]
     },
     "metadata": {},
     "output_type": "display_data"
    },
    {
     "name": "stdout",
     "output_type": "stream",
     "text": [
      "\tTrain Acc 85.9248%\tTrain Loss 0.4078\t Learning Rate 0.0000490\n",
      "\tVal Acc 81.9834%\tVal Loss 0.5526\n",
      "\n",
      "Epoch 8/20\n"
     ]
    },
    {
     "data": {
      "application/vnd.jupyter.widget-view+json": {
       "model_id": "",
       "version_major": 2,
       "version_minor": 0
      },
      "text/plain": [
       "Train:   0%|                                                                            | 0/17623 [00:00<?, ?i…"
      ]
     },
     "metadata": {},
     "output_type": "display_data"
    },
    {
     "data": {
      "application/vnd.jupyter.widget-view+json": {
       "model_id": "",
       "version_major": 2,
       "version_minor": 0
      },
      "text/plain": [
       "Val:   0%|                                                                                | 0/942 [00:00<?, ?i…"
      ]
     },
     "metadata": {},
     "output_type": "display_data"
    },
    {
     "name": "stdout",
     "output_type": "stream",
     "text": [
      "\tTrain Acc 86.2312%\tTrain Loss 0.3974\t Learning Rate 0.0000490\n",
      "\tVal Acc 82.0033%\tVal Loss 0.5529\n",
      "\n",
      "Epoch 9/20\n"
     ]
    },
    {
     "data": {
      "application/vnd.jupyter.widget-view+json": {
       "model_id": "",
       "version_major": 2,
       "version_minor": 0
      },
      "text/plain": [
       "Train:   0%|                                                                            | 0/17623 [00:00<?, ?i…"
      ]
     },
     "metadata": {},
     "output_type": "display_data"
    },
    {
     "data": {
      "application/vnd.jupyter.widget-view+json": {
       "model_id": "",
       "version_major": 2,
       "version_minor": 0
      },
      "text/plain": [
       "Val:   0%|                                                                                | 0/942 [00:00<?, ?i…"
      ]
     },
     "metadata": {},
     "output_type": "display_data"
    },
    {
     "name": "stdout",
     "output_type": "stream",
     "text": [
      "\tTrain Acc 86.4619%\tTrain Loss 0.3898\t Learning Rate 0.0000490\n",
      "\tVal Acc 82.0553%\tVal Loss 0.5555\n",
      "\n",
      "Epoch 10/20\n"
     ]
    },
    {
     "data": {
      "application/vnd.jupyter.widget-view+json": {
       "model_id": "",
       "version_major": 2,
       "version_minor": 0
      },
      "text/plain": [
       "Train:   0%|                                                                            | 0/17623 [00:00<?, ?i…"
      ]
     },
     "metadata": {},
     "output_type": "display_data"
    },
    {
     "data": {
      "application/vnd.jupyter.widget-view+json": {
       "model_id": "",
       "version_major": 2,
       "version_minor": 0
      },
      "text/plain": [
       "Val:   0%|                                                                                | 0/942 [00:00<?, ?i…"
      ]
     },
     "metadata": {},
     "output_type": "display_data"
    },
    {
     "name": "stdout",
     "output_type": "stream",
     "text": [
      "\tTrain Acc 86.9324%\tTrain Loss 0.3749\t Learning Rate 0.0000343\n",
      "\tVal Acc 82.1449%\tVal Loss 0.5551\n",
      "\n",
      "Epoch 11/20\n"
     ]
    },
    {
     "data": {
      "application/vnd.jupyter.widget-view+json": {
       "model_id": "",
       "version_major": 2,
       "version_minor": 0
      },
      "text/plain": [
       "Train:   0%|                                                                            | 0/17623 [00:00<?, ?i…"
      ]
     },
     "metadata": {},
     "output_type": "display_data"
    },
    {
     "data": {
      "application/vnd.jupyter.widget-view+json": {
       "model_id": "",
       "version_major": 2,
       "version_minor": 0
      },
      "text/plain": [
       "Val:   0%|                                                                                | 0/942 [00:00<?, ?i…"
      ]
     },
     "metadata": {},
     "output_type": "display_data"
    },
    {
     "name": "stdout",
     "output_type": "stream",
     "text": [
      "\tTrain Acc 87.1118%\tTrain Loss 0.3689\t Learning Rate 0.0000343\n",
      "\tVal Acc 82.1231%\tVal Loss 0.5576\n",
      "\n",
      "Epoch 12/20\n"
     ]
    },
    {
     "data": {
      "application/vnd.jupyter.widget-view+json": {
       "model_id": "",
       "version_major": 2,
       "version_minor": 0
      },
      "text/plain": [
       "Train:   0%|                                                                            | 0/17623 [00:00<?, ?i…"
      ]
     },
     "metadata": {},
     "output_type": "display_data"
    },
    {
     "data": {
      "application/vnd.jupyter.widget-view+json": {
       "model_id": "",
       "version_major": 2,
       "version_minor": 0
      },
      "text/plain": [
       "Val:   0%|                                                                                | 0/942 [00:00<?, ?i…"
      ]
     },
     "metadata": {},
     "output_type": "display_data"
    },
    {
     "name": "stdout",
     "output_type": "stream",
     "text": [
      "\tTrain Acc 87.2431%\tTrain Loss 0.3645\t Learning Rate 0.0000343\n",
      "\tVal Acc 82.1131%\tVal Loss 0.5595\n",
      "\n",
      "Epoch 13/20\n"
     ]
    },
    {
     "data": {
      "application/vnd.jupyter.widget-view+json": {
       "model_id": "",
       "version_major": 2,
       "version_minor": 0
      },
      "text/plain": [
       "Train:   0%|                                                                            | 0/17623 [00:00<?, ?i…"
      ]
     },
     "metadata": {},
     "output_type": "display_data"
    },
    {
     "data": {
      "application/vnd.jupyter.widget-view+json": {
       "model_id": "",
       "version_major": 2,
       "version_minor": 0
      },
      "text/plain": [
       "Val:   0%|                                                                                | 0/942 [00:00<?, ?i…"
      ]
     },
     "metadata": {},
     "output_type": "display_data"
    },
    {
     "name": "stdout",
     "output_type": "stream",
     "text": [
      "\tTrain Acc 87.5672%\tTrain Loss 0.3544\t Learning Rate 0.0000240\n",
      "\tVal Acc 82.1590%\tVal Loss 0.5604\n",
      "\n",
      "Epoch 14/20\n"
     ]
    },
    {
     "data": {
      "application/vnd.jupyter.widget-view+json": {
       "model_id": "",
       "version_major": 2,
       "version_minor": 0
      },
      "text/plain": [
       "Train:   0%|                                                                            | 0/17623 [00:00<?, ?i…"
      ]
     },
     "metadata": {},
     "output_type": "display_data"
    },
    {
     "data": {
      "application/vnd.jupyter.widget-view+json": {
       "model_id": "",
       "version_major": 2,
       "version_minor": 0
      },
      "text/plain": [
       "Val:   0%|                                                                                | 0/942 [00:00<?, ?i…"
      ]
     },
     "metadata": {},
     "output_type": "display_data"
    },
    {
     "name": "stdout",
     "output_type": "stream",
     "text": [
      "\tTrain Acc 87.6896%\tTrain Loss 0.3505\t Learning Rate 0.0000240\n",
      "\tVal Acc 82.1806%\tVal Loss 0.5626\n",
      "\n",
      "Epoch 15/20\n"
     ]
    },
    {
     "data": {
      "application/vnd.jupyter.widget-view+json": {
       "model_id": "",
       "version_major": 2,
       "version_minor": 0
      },
      "text/plain": [
       "Train:   0%|                                                                            | 0/17623 [00:00<?, ?i…"
      ]
     },
     "metadata": {},
     "output_type": "display_data"
    },
    {
     "data": {
      "application/vnd.jupyter.widget-view+json": {
       "model_id": "",
       "version_major": 2,
       "version_minor": 0
      },
      "text/plain": [
       "Val:   0%|                                                                                | 0/942 [00:00<?, ?i…"
      ]
     },
     "metadata": {},
     "output_type": "display_data"
    },
    {
     "name": "stdout",
     "output_type": "stream",
     "text": [
      "\tTrain Acc 87.7785%\tTrain Loss 0.3475\t Learning Rate 0.0000240\n",
      "\tVal Acc 82.1741%\tVal Loss 0.5643\n",
      "\n",
      "Epoch 16/20\n"
     ]
    },
    {
     "data": {
      "application/vnd.jupyter.widget-view+json": {
       "model_id": "",
       "version_major": 2,
       "version_minor": 0
      },
      "text/plain": [
       "Train:   0%|                                                                            | 0/17623 [00:00<?, ?i…"
      ]
     },
     "metadata": {},
     "output_type": "display_data"
    },
    {
     "data": {
      "application/vnd.jupyter.widget-view+json": {
       "model_id": "",
       "version_major": 2,
       "version_minor": 0
      },
      "text/plain": [
       "Val:   0%|                                                                                | 0/942 [00:00<?, ?i…"
      ]
     },
     "metadata": {},
     "output_type": "display_data"
    },
    {
     "name": "stdout",
     "output_type": "stream",
     "text": [
      "\tTrain Acc 88.0043%\tTrain Loss 0.3406\t Learning Rate 0.0000168\n",
      "\tVal Acc 82.1952%\tVal Loss 0.5647\n",
      "\n",
      "Epoch 17/20\n"
     ]
    },
    {
     "data": {
      "application/vnd.jupyter.widget-view+json": {
       "model_id": "",
       "version_major": 2,
       "version_minor": 0
      },
      "text/plain": [
       "Train:   0%|                                                                            | 0/17623 [00:00<?, ?i…"
      ]
     },
     "metadata": {},
     "output_type": "display_data"
    },
    {
     "data": {
      "application/vnd.jupyter.widget-view+json": {
       "model_id": "6b73abdc8f7d4ea7a3ed8ffbda24ffa0",
       "version_major": 2,
       "version_minor": 0
      },
      "text/plain": [
       "Val:   0%|                                                                                | 0/942 [00:00<?, ?i…"
      ]
     },
     "metadata": {},
     "output_type": "display_data"
    },
    {
     "name": "stdout",
     "output_type": "stream",
     "text": [
      "\tTrain Acc 88.0761%\tTrain Loss 0.3381\t Learning Rate 0.0000168\n",
      "\tVal Acc 82.1930%\tVal Loss 0.5664\n",
      "\n",
      "Epoch 18/20\n"
     ]
    },
    {
     "data": {
      "application/vnd.jupyter.widget-view+json": {
       "model_id": "82b3288678ec46efae768fbbb361ae9b",
       "version_major": 2,
       "version_minor": 0
      },
      "text/plain": [
       "Train:   0%|                                                                            | 0/17623 [00:00<?, ?i…"
      ]
     },
     "metadata": {},
     "output_type": "display_data"
    },
    {
     "data": {
      "application/vnd.jupyter.widget-view+json": {
       "model_id": "587f55ce3d8447a2a57130d8a8e92958",
       "version_major": 2,
       "version_minor": 0
      },
      "text/plain": [
       "Val:   0%|                                                                                | 0/942 [00:00<?, ?i…"
      ]
     },
     "metadata": {},
     "output_type": "display_data"
    },
    {
     "name": "stdout",
     "output_type": "stream",
     "text": [
      "\tTrain Acc 88.1365%\tTrain Loss 0.3361\t Learning Rate 0.0000168\n",
      "\tVal Acc 82.1914%\tVal Loss 0.5681\n",
      "\n",
      "Epoch 19/20\n"
     ]
    },
    {
     "data": {
      "application/vnd.jupyter.widget-view+json": {
       "model_id": "f43b3292e4884751a44233c6604cb8d5",
       "version_major": 2,
       "version_minor": 0
      },
      "text/plain": [
       "Train:   0%|                                                                            | 0/17623 [00:00<?, ?i…"
      ]
     },
     "metadata": {},
     "output_type": "display_data"
    },
    {
     "data": {
      "application/vnd.jupyter.widget-view+json": {
       "model_id": "f018c58b390c4e70abb2c84c9773808a",
       "version_major": 2,
       "version_minor": 0
      },
      "text/plain": [
       "Val:   0%|                                                                                | 0/942 [00:00<?, ?i…"
      ]
     },
     "metadata": {},
     "output_type": "display_data"
    },
    {
     "name": "stdout",
     "output_type": "stream",
     "text": [
      "\tTrain Acc 88.2962%\tTrain Loss 0.3313\t Learning Rate 0.0000118\n",
      "\tVal Acc 82.2021%\tVal Loss 0.5687\n",
      "\n",
      "Epoch 20/20\n"
     ]
    },
    {
     "data": {
      "application/vnd.jupyter.widget-view+json": {
       "model_id": "f33cb01a392b407e9083057690a8b4a0",
       "version_major": 2,
       "version_minor": 0
      },
      "text/plain": [
       "Train:   0%|                                                                            | 0/17623 [00:00<?, ?i…"
      ]
     },
     "metadata": {},
     "output_type": "display_data"
    },
    {
     "data": {
      "application/vnd.jupyter.widget-view+json": {
       "model_id": "0676ad6e05cb4914acae50b8e0ed85c7",
       "version_major": 2,
       "version_minor": 0
      },
      "text/plain": [
       "Val:   0%|                                                                                | 0/942 [00:00<?, ?i…"
      ]
     },
     "metadata": {},
     "output_type": "display_data"
    },
    {
     "name": "stdout",
     "output_type": "stream",
     "text": [
      "\tTrain Acc 88.3589%\tTrain Loss 0.3294\t Learning Rate 0.0000118\n",
      "\tVal Acc 82.2289%\tVal Loss 0.5696\n"
     ]
    },
    {
     "data": {
      "application/vnd.jupyter.widget-view+json": {
       "model_id": "5d0712dc90ef449da3f5cbb6e13dffca",
       "version_major": 2,
       "version_minor": 0
      },
      "text/plain": [
       "VBox(children=(Label(value='0.007 MB of 0.007 MB uploaded\\r'), FloatProgress(value=1.0, max=1.0)))"
      ]
     },
     "metadata": {},
     "output_type": "display_data"
    },
    {
     "data": {
      "text/html": [
       "<style>\n",
       "    table.wandb td:nth-child(1) { padding: 0 10px; text-align: left ; width: auto;} td:nth-child(2) {text-align: left ; width: 100%}\n",
       "    .wandb-row { display: flex; flex-direction: row; flex-wrap: wrap; justify-content: flex-start; width: 100% }\n",
       "    .wandb-col { display: flex; flex-direction: column; flex-basis: 100%; flex: 1; padding: 10px; }\n",
       "    </style>\n",
       "<div class=\"wandb-row\"><div class=\"wandb-col\"><h3>Run history:</h3><br/><table class=\"wandb\"><tr><td>epoch</td><td>▁▁▂▂▂▃▃▄▄▄▅▅▅▆▆▇▇▇██</td></tr><tr><td>lr</td><td>███▆▆▆▄▄▄▃▃▃▂▂▂▁▁▁▁▁</td></tr><tr><td>step</td><td>▁▁▁▁▂▂▂▂▂▃▃▃▃▃▃▄▄▄▄▄▅▅▅▅▅▅▆▆▆▆▆▇▇▇▇▇▇███</td></tr><tr><td>train/acc</td><td>▁▃▅▆▆▆▇▇▇▇▇▇▇▇▇▇▇▇██████████████████████</td></tr><tr><td>train/loss</td><td>█▆▃▃▃▃▂▂▂▂▂▂▂▂▂▂▁▂▁▁▁▁▁▁▁▁▁▁▁▁▁▁▁▁▁▁▁▁▁▁</td></tr><tr><td>train_acc</td><td>▁▄▅▆▆▆▇▇▇▇▇▇████████</td></tr><tr><td>train_loss</td><td>█▅▄▃▃▃▂▂▂▂▂▂▁▁▁▁▁▁▁▁</td></tr><tr><td>val_acc</td><td>▁▅▆▇▇▇██████████████</td></tr><tr><td>valid_loss</td><td>█▄▂▁▁▁▁▁▁▁▁▂▂▂▂▂▂▂▂▂</td></tr></table><br/></div><div class=\"wandb-col\"><h3>Run summary:</h3><br/><table class=\"wandb\"><tr><td>epoch</td><td>19</td></tr><tr><td>lr</td><td>1e-05</td></tr><tr><td>step</td><td>351837</td></tr><tr><td>train/acc</td><td>88.3607</td></tr><tr><td>train/loss</td><td>0.32933</td></tr><tr><td>train_acc</td><td>88.35892</td></tr><tr><td>train_loss</td><td>0.32939</td></tr><tr><td>val_acc</td><td>82.22889</td></tr><tr><td>valid_loss</td><td>0.56962</td></tr></table><br/></div></div>"
      ],
      "text/plain": [
       "<IPython.core.display.HTML object>"
      ]
     },
     "metadata": {},
     "output_type": "display_data"
    },
    {
     "data": {
      "text/html": [
       " View run <strong style=\"color:#cdcd00\">run_sched_skip_steplr2</strong> at: <a href='https://wandb.ai/jiangfan892/hw1p2/runs/pf1w6tfx' target=\"_blank\">https://wandb.ai/jiangfan892/hw1p2/runs/pf1w6tfx</a><br/> View job at <a href='https://wandb.ai/jiangfan892/hw1p2/jobs/QXJ0aWZhY3RDb2xsZWN0aW9uOjEzODY1MzczMQ==/version_details/v0' target=\"_blank\">https://wandb.ai/jiangfan892/hw1p2/jobs/QXJ0aWZhY3RDb2xsZWN0aW9uOjEzODY1MzczMQ==/version_details/v0</a><br/>Synced 6 W&B file(s), 0 media file(s), 2 artifact file(s) and 1 other file(s)"
      ],
      "text/plain": [
       "<IPython.core.display.HTML object>"
      ]
     },
     "metadata": {},
     "output_type": "display_data"
    },
    {
     "data": {
      "text/html": [
       "Find logs at: <code>./wandb/run-20240209_184826-pf1w6tfx/logs</code>"
      ],
      "text/plain": [
       "<IPython.core.display.HTML object>"
      ]
     },
     "metadata": {},
     "output_type": "display_data"
    }
   ],
   "source": [
    "# Iterate over number of epochs to train and evaluate your model\n",
    "torch.cuda.empty_cache()\n",
    "gc.collect()\n",
    "# wandb.watch(model, log=\"all\")\n",
    "\n",
    "for epoch in range(config['epochs']):\n",
    "\n",
    "    print(\"\\nEpoch {}/{}\".format(epoch+1, config['epochs']))\n",
    "\n",
    "    curr_lr                 = float(optimizer.param_groups[0]['lr'])\n",
    "    train_loss, train_acc   = train(model, train_loader, optimizer, criterion, epoch)\n",
    "    val_loss, val_acc       = eval(model, val_loader)\n",
    "    scheduler.step()\n",
    "\n",
    "    print(\"\\tTrain Acc {:.04f}%\\tTrain Loss {:.04f}\\t Learning Rate {:.07f}\".format(train_acc*100, train_loss, curr_lr))\n",
    "    print(\"\\tVal Acc {:.04f}%\\tVal Loss {:.04f}\".format(val_acc*100, val_loss))\n",
    "\n",
    "    ### Log metrics at each epoch in your run\n",
    "    # Optionally, you can log at each batch inside train/eval functions\n",
    "    # (explore wandb documentation/wandb recitation)\n",
    "    wandb.log({'train_acc': train_acc*100, 'train_loss': train_loss,\n",
    "               'val_acc': val_acc*100, 'valid_loss': val_loss, 'lr': curr_lr, 'epoch': epoch,})\n",
    "\n",
    "    ### Highly Recommended: Save checkpoint in drive and/or wandb if accuracy is better than your current best\n",
    "    torch.save(model.state_dict(), F\"{name}_model_{epoch}.pt\")\n",
    "\n",
    "### Finish your wandb run\n",
    "run.finish()"
   ]
  },
  {
   "cell_type": "markdown",
   "metadata": {
    "id": "_kXwf5YUo_4A"
   },
   "source": [
    "# Testing and submission to Kaggle"
   ]
  },
  {
   "cell_type": "markdown",
   "metadata": {
    "id": "WI1hSFYLpJvH"
   },
   "source": [
    "Before we get to the following code, make sure to see the format of submission given in *sample_submission.csv*. Once you have done so, it is time to fill the following function to complete your inference on test data. Refer the eval function from previous cells to get an idea of how to go about completing this function."
   ]
  },
  {
   "cell_type": "code",
   "execution_count": 25,
   "metadata": {
    "id": "R-SU9fZ3xHtk"
   },
   "outputs": [],
   "source": [
    "def test(model, test_loader):\n",
    "    ### What you call for model to perform inference?\n",
    "    model.eval # TODO train or eval?\n",
    "\n",
    "    ### List to store predicted phonemes of test data\n",
    "    test_predictions = []\n",
    "\n",
    "    ### Which mode do you need to avoid gradients?\n",
    "    with torch.no_grad(): # TODO\n",
    "\n",
    "        for i, mfccs in enumerate(tqdm(test_loader)):\n",
    "\n",
    "            mfccs   = mfccs.to(device)\n",
    "\n",
    "            logits  = model(mfccs)\n",
    "\n",
    "            ### Get most likely predicted phoneme with argmax\n",
    "            predicted_phonemes_indices = logits.argmax(dim=1)\n",
    "\n",
    "            ### How do you store predicted_phonemes with test_predictions? Hint, look at eval\n",
    "            \n",
    "            predicted_phonemes = [PHONEMES[index] for index in predicted_phonemes_indices.cpu().numpy()]\n",
    "            test_predictions.extend(predicted_phonemes)\n",
    "\n",
    "\n",
    "    return test_predictions"
   ]
  },
  {
   "cell_type": "code",
   "execution_count": 26,
   "metadata": {
    "id": "wG9v6Xmxu7wp"
   },
   "outputs": [
    {
     "data": {
      "application/vnd.jupyter.widget-view+json": {
       "model_id": "242ab255766d4107b2221e703b9de94e",
       "version_major": 2,
       "version_minor": 0
      },
      "text/plain": [
       "  0%|          | 0/945 [00:00<?, ?it/s]"
      ]
     },
     "metadata": {},
     "output_type": "display_data"
    }
   ],
   "source": [
    "predictions = test(model, test_loader)"
   ]
  },
  {
   "cell_type": "code",
   "execution_count": 27,
   "metadata": {
    "id": "ZE1hRnvf0bFz"
   },
   "outputs": [],
   "source": [
    "### Create CSV file with predictions\n",
    "with open(\"./submission9.csv\", \"w+\") as f:\n",
    "    f.write(\"id,label\\n\")\n",
    "    for i in range(len(predictions)):\n",
    "        f.write(\"{},{}\\n\".format(i, predictions[i]))"
   ]
  },
  {
   "cell_type": "code",
   "execution_count": null,
   "metadata": {
    "id": "LjcammuCxMKN"
   },
   "outputs": [],
   "source": [
    "### Submit to kaggle competition using kaggle API (Uncomment below to use)\n",
    "# !kaggle competitions submit -c 11785-hw1p2-s24 -f ./submission.csv -m \"Test Submission\"\n",
    "\n",
    "### However, its always safer to download the csv file and then upload to kaggle"
   ]
  },
  {
   "cell_type": "code",
   "execution_count": null,
   "metadata": {},
   "outputs": [],
   "source": []
  },
  {
   "cell_type": "code",
   "execution_count": null,
   "metadata": {},
   "outputs": [],
   "source": []
  },
  {
   "cell_type": "code",
   "execution_count": null,
   "metadata": {},
   "outputs": [],
   "source": []
  },
  {
   "cell_type": "code",
   "execution_count": null,
   "metadata": {},
   "outputs": [],
   "source": []
  }
 ],
 "metadata": {
  "accelerator": "GPU",
  "colab": {
   "machine_shape": "hm",
   "provenance": []
  },
  "gpuClass": "standard",
  "kernelspec": {
   "display_name": "Python 3 (ipykernel)",
   "language": "python",
   "name": "python3"
  },
  "language_info": {
   "codemirror_mode": {
    "name": "ipython",
    "version": 3
   },
   "file_extension": ".py",
   "mimetype": "text/x-python",
   "name": "python",
   "nbconvert_exporter": "python",
   "pygments_lexer": "ipython3",
   "version": "3.9.18"
  },
  "vscode": {
   "interpreter": {
    "hash": "b0fa6594d8f4cbf19f97940f81e996739fb7646882a419484c72d19e05852a7e"
   }
  }
 },
 "nbformat": 4,
 "nbformat_minor": 4
}
